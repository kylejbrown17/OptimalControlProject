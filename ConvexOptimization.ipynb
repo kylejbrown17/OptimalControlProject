{
 "cells": [
  {
   "cell_type": "code",
   "execution_count": 1,
   "metadata": {
    "collapsed": true
   },
   "outputs": [],
   "source": [
    "using Convex\n",
    "import PyPlot"
   ]
  },
  {
   "cell_type": "code",
   "execution_count": 2,
   "metadata": {
    "collapsed": false
   },
   "outputs": [
    {
     "ename": "LoadError",
     "evalue": "UndefVarError: Raceway not defined",
     "output_type": "error",
     "traceback": [
      "UndefVarError: Raceway not defined",
      ""
     ]
    }
   ],
   "source": [
    "# spline control points\n",
    "Pts = 50*[0 -1 -2 -3 -3.5 -3 -2 -1 -0.5 -1 -2 -3 -4 -5 -6 -6.5 -6 -5.5 -6 -6 -5 -4 -3 -2 -1.5 -1 0 1 1.5 2 3 4 5 6.25 7 7 7 7 7 7 7 6 5 4 4 4 3 2 1 0; \n",
    "       0 0 0 0 -1 -2 -2 -2 -3 -4 -4 -4 -4 -4 -4 -3 -2 -1 0 1 2 3 4 4 3 2 2 2 3 4 4 4 4 4 3 2 1 0 -1 -2 -3 -4 -4 -3 -2 -1 0 0 0 0]\n",
    "degree = 3 # degree of spline\n",
    "num_points = 10001\n",
    "num_samples = 420\n",
    "\n",
    "track = Raceway(Pts,degree,num_points,num_samples,lane_width)\n",
    "track;"
   ]
  },
  {
   "cell_type": "code",
   "execution_count": null,
   "metadata": {
    "collapsed": true
   },
   "outputs": [],
   "source": [
    "# MPC\n",
    "T # planning horizon\n",
    "v₀ = 10.0 # fixed velocity for this particular problem\n",
    "L₁ = 2.0\n",
    "L₂ = 2.0\n",
    "\n",
    "# control inputs\n",
    "δ = Variable(T)\n",
    "a = Variable(T)\n",
    "\n",
    "# state variables\n",
    "v = Variable(T+1)\n",
    "ψ = Variable(T+1)\n",
    "β = Variable(T+1)\n",
    "ẋ = Variable(T+1)\n",
    "ẏ = Variable(T+1)\n",
    "ṡ = Variable(T+1)\n",
    "\n",
    "s = Variable(T+1)\n",
    "θ = Variable(T+1)\n",
    "n = Variable(T+1)\n",
    "C = Variable(T+1)\n",
    "ϕ = Variable(T+1)\n",
    "\n",
    "# state constraints\n",
    "constraints = [\n",
    "    # equality constraints (dynamics)\n",
    "    v[1:end] == v₀\n",
    "    ẋ == v[1:end-1] * cos(ψ[1:end-1] + β[1:end-1])\n",
    "    ẏ == v[1:end-1] * sin(ψ[1:end-1] + β[1:end-1])\n",
    "    Sf == ( 1 - n*C) / (ẋ*cos(ϕ) + ẏ*sin(ϕ))\n",
    "    x[2:end] == ẋ[1:end-1] * Sf[1:end-1]\n",
    "    y[2:end] == ẏ[1:end-1] * Sf[1:end-1]\n",
    "    # s[2:end] == KDProject(x,y)\n",
    "]"
   ]
  },
  {
   "cell_type": "code",
   "execution_count": 2,
   "metadata": {
    "collapsed": false
   },
   "outputs": [
    {
     "name": "stdout",
     "output_type": "stream",
     "text": [
      "----------------------------------------------------------------------------\n",
      "\tSCS v1.2.6 - Splitting Conic Solver\n",
      "\t(c) Brendan O'Donoghue, Stanford University, 2012-2016\n",
      "----------------------------------------------------------------------------\n",
      "Lin-sys: sparse-direct, nnz in A = 31\n",
      "eps = 1.00e-04, alpha = 1.80, max_iters = 20000, normalize = 1, scale = 5.00\n",
      "Variables n = 8, constraints m = 15\n",
      "Cones:\tprimal zero / dual free vars: 1\n",
      "\tlinear vars: 6\n",
      "\tsoc vars: 8, soc blks: 2\n",
      "Setup time: 1.52e-03s\n",
      "----------------------------------------------------------------------------\n",
      " Iter | pri res | dua res | rel gap | pri obj | dua obj | kap/tau | time (s)\n",
      "----------------------------------------------------------------------------\n",
      "     0|      inf       inf       nan      -inf       inf       inf  1.05e-03 \n",
      "   100| 3.67e-06  3.53e-05  2.13e-05  1.32e+00  1.32e+00  3.19e-17  1.12e-03 \n",
      "----------------------------------------------------------------------------\n",
      "Status: Solved\n",
      "Timing: Solve time: 1.15e-03s\n",
      "\tLin-sys: nnz in L factor: 60, avg solve time: 2.26e-06s\n",
      "\tCones: avg projection time: 8.41e-08s\n",
      "----------------------------------------------------------------------------\n",
      "Error metrics:\n",
      "dist(s, K) = 4.1026e-17, dist(y, K*) = 2.2204e-16, s'y/|s||y| = -2.4480e-17\n",
      "|Ax + s - b|_2 / (1 + |b|_2) = 3.6660e-06\n",
      "|A'y + c|_2 / (1 + |c|_2) = 3.5290e-05\n",
      "|c'x + b'y| / (1 + |c'x| + |b'y|) = 2.1283e-05\n",
      "----------------------------------------------------------------------------\n",
      "c'x = 1.3238, -b'y = 1.3239\n",
      "============================================================================\n"
     ]
    },
    {
     "data": {
      "text/plain": [
       "1.3238298064740333"
      ]
     },
     "execution_count": 2,
     "metadata": {},
     "output_type": "execute_result"
    }
   ],
   "source": [
    "# Generate random problem data\n",
    "m = 4;  n = 5\n",
    "A = randn(m, n); b = randn(m, 1)\n",
    "\n",
    "# Create a (column vector) variable of size n x 1.\n",
    "x = Variable(n)\n",
    "\n",
    "# The problem is to minimize ||Ax - b||^2 subject to x >= 0\n",
    "# This can be done by: minimize(objective, constraints)\n",
    "problem = minimize(sumsquares(A * x - b), [x >= 0])\n",
    "\n",
    "# Solve the problem by calling solve!\n",
    "solve!(problem)\n",
    "\n",
    "# Check the status of the problem\n",
    "problem.status # :Optimal, :Infeasible, :Unbounded etc.\n",
    "\n",
    "# Get the optimal value\n",
    "problem.optval"
   ]
  },
  {
   "cell_type": "code",
   "execution_count": null,
   "metadata": {
    "collapsed": true
   },
   "outputs": [],
   "source": []
  }
 ],
 "metadata": {
  "kernelspec": {
   "display_name": "Julia 0.5.0",
   "language": "julia",
   "name": "julia-0.5"
  },
  "language_info": {
   "file_extension": ".jl",
   "mimetype": "application/julia",
   "name": "julia",
   "version": "0.5.0"
  }
 },
 "nbformat": 4,
 "nbformat_minor": 2
}
